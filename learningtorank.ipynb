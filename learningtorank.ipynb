{
 "cells": [
  {
   "cell_type": "code",
   "execution_count": 1,
   "id": "3510cb43",
   "metadata": {},
   "outputs": [],
   "source": [
    "import lightgbm as lgb\n",
    "import catboost as ct"
   ]
  },
  {
   "cell_type": "code",
   "execution_count": 2,
   "id": "2906ef7e",
   "metadata": {},
   "outputs": [],
   "source": [
    "import numpy as np\n",
    "import pandas as pd"
   ]
  },
  {
   "cell_type": "code",
   "execution_count": 3,
   "id": "44e58caa",
   "metadata": {},
   "outputs": [],
   "source": [
    "from lightgbm import LGBMRanker"
   ]
  },
  {
   "cell_type": "code",
   "execution_count": 4,
   "id": "0a8703dc",
   "metadata": {},
   "outputs": [],
   "source": [
    "from catboost.datasets import msrank_10k\n",
    "train_df, test_df = msrank_10k()"
   ]
  },
  {
   "cell_type": "code",
   "execution_count": 5,
   "id": "4b049b53",
   "metadata": {},
   "outputs": [],
   "source": [
    "from copy import deepcopy"
   ]
  },
  {
   "cell_type": "markdown",
   "id": "5a5f2220",
   "metadata": {},
   "source": [
    "# eval"
   ]
  },
  {
   "cell_type": "code",
   "execution_count": 6,
   "id": "3e891b71",
   "metadata": {},
   "outputs": [],
   "source": [
    "def ndcg(y_score, y_true, k):\n",
    "    order = np.argsort(y_score)[::-1]\n",
    "    y_true = np.take(y_true, order[:k])\n",
    "\n",
    "    gain = 2 ** y_true - 1\n",
    "\n",
    "    discounts = np.log2(np.arange(len(y_true)) + 2)\n",
    "    return np.sum(gain / discounts)"
   ]
  },
  {
   "cell_type": "markdown",
   "id": "feb1dc02",
   "metadata": {},
   "source": [
    "# lightgbm data"
   ]
  },
  {
   "cell_type": "code",
   "execution_count": 7,
   "id": "b5de5e50",
   "metadata": {},
   "outputs": [],
   "source": [
    "X_train = train_df.drop([0, 1], axis=1).values\n",
    "y_train = train_df[0].values * 4\n",
    "qid_train = train_df[1].values\n",
    "\n",
    "X_test = test_df.drop([0, 1], axis=1).values\n",
    "y_test = test_df[0].values * 4\n",
    "qid_test = test_df[1].values"
   ]
  },
  {
   "cell_type": "code",
   "execution_count": 8,
   "id": "b3844846",
   "metadata": {},
   "outputs": [],
   "source": [
    "_, group_train = np.unique(qid_train, return_counts=True)"
   ]
  },
  {
   "cell_type": "code",
   "execution_count": 9,
   "id": "5cdc24b0",
   "metadata": {},
   "outputs": [],
   "source": [
    "# Convert labels to integers\n",
    "y_train = y_train.astype(int)\n",
    "y_test = y_test.astype(int)"
   ]
  },
  {
   "cell_type": "code",
   "execution_count": 33,
   "id": "2359e1ed",
   "metadata": {},
   "outputs": [],
   "source": [
    "# Initialize the LGBMRanker with lambdarank objective\n",
    "gbm = LGBMRanker(\n",
    "    objective='lambdarank',\n",
    "    boosting_type='gbdt',\n",
    "    n_estimators=2000  # Set the number of boosting iterations to 1000\n",
    ")"
   ]
  },
  {
   "cell_type": "code",
   "execution_count": 34,
   "id": "3016c72f",
   "metadata": {},
   "outputs": [
    {
     "data": {
      "text/html": [
       "<style>#sk-container-id-3 {color: black;background-color: white;}#sk-container-id-3 pre{padding: 0;}#sk-container-id-3 div.sk-toggleable {background-color: white;}#sk-container-id-3 label.sk-toggleable__label {cursor: pointer;display: block;width: 100%;margin-bottom: 0;padding: 0.3em;box-sizing: border-box;text-align: center;}#sk-container-id-3 label.sk-toggleable__label-arrow:before {content: \"▸\";float: left;margin-right: 0.25em;color: #696969;}#sk-container-id-3 label.sk-toggleable__label-arrow:hover:before {color: black;}#sk-container-id-3 div.sk-estimator:hover label.sk-toggleable__label-arrow:before {color: black;}#sk-container-id-3 div.sk-toggleable__content {max-height: 0;max-width: 0;overflow: hidden;text-align: left;background-color: #f0f8ff;}#sk-container-id-3 div.sk-toggleable__content pre {margin: 0.2em;color: black;border-radius: 0.25em;background-color: #f0f8ff;}#sk-container-id-3 input.sk-toggleable__control:checked~div.sk-toggleable__content {max-height: 200px;max-width: 100%;overflow: auto;}#sk-container-id-3 input.sk-toggleable__control:checked~label.sk-toggleable__label-arrow:before {content: \"▾\";}#sk-container-id-3 div.sk-estimator input.sk-toggleable__control:checked~label.sk-toggleable__label {background-color: #d4ebff;}#sk-container-id-3 div.sk-label input.sk-toggleable__control:checked~label.sk-toggleable__label {background-color: #d4ebff;}#sk-container-id-3 input.sk-hidden--visually {border: 0;clip: rect(1px 1px 1px 1px);clip: rect(1px, 1px, 1px, 1px);height: 1px;margin: -1px;overflow: hidden;padding: 0;position: absolute;width: 1px;}#sk-container-id-3 div.sk-estimator {font-family: monospace;background-color: #f0f8ff;border: 1px dotted black;border-radius: 0.25em;box-sizing: border-box;margin-bottom: 0.5em;}#sk-container-id-3 div.sk-estimator:hover {background-color: #d4ebff;}#sk-container-id-3 div.sk-parallel-item::after {content: \"\";width: 100%;border-bottom: 1px solid gray;flex-grow: 1;}#sk-container-id-3 div.sk-label:hover label.sk-toggleable__label {background-color: #d4ebff;}#sk-container-id-3 div.sk-serial::before {content: \"\";position: absolute;border-left: 1px solid gray;box-sizing: border-box;top: 0;bottom: 0;left: 50%;z-index: 0;}#sk-container-id-3 div.sk-serial {display: flex;flex-direction: column;align-items: center;background-color: white;padding-right: 0.2em;padding-left: 0.2em;position: relative;}#sk-container-id-3 div.sk-item {position: relative;z-index: 1;}#sk-container-id-3 div.sk-parallel {display: flex;align-items: stretch;justify-content: center;background-color: white;position: relative;}#sk-container-id-3 div.sk-item::before, #sk-container-id-3 div.sk-parallel-item::before {content: \"\";position: absolute;border-left: 1px solid gray;box-sizing: border-box;top: 0;bottom: 0;left: 50%;z-index: -1;}#sk-container-id-3 div.sk-parallel-item {display: flex;flex-direction: column;z-index: 1;position: relative;background-color: white;}#sk-container-id-3 div.sk-parallel-item:first-child::after {align-self: flex-end;width: 50%;}#sk-container-id-3 div.sk-parallel-item:last-child::after {align-self: flex-start;width: 50%;}#sk-container-id-3 div.sk-parallel-item:only-child::after {width: 0;}#sk-container-id-3 div.sk-dashed-wrapped {border: 1px dashed gray;margin: 0 0.4em 0.5em 0.4em;box-sizing: border-box;padding-bottom: 0.4em;background-color: white;}#sk-container-id-3 div.sk-label label {font-family: monospace;font-weight: bold;display: inline-block;line-height: 1.2em;}#sk-container-id-3 div.sk-label-container {text-align: center;}#sk-container-id-3 div.sk-container {/* jupyter's `normalize.less` sets `[hidden] { display: none; }` but bootstrap.min.css set `[hidden] { display: none !important; }` so we also need the `!important` here to be able to override the default hidden behavior on the sphinx rendered scikit-learn.org. See: https://github.com/scikit-learn/scikit-learn/issues/21755 */display: inline-block !important;position: relative;}#sk-container-id-3 div.sk-text-repr-fallback {display: none;}</style><div id=\"sk-container-id-3\" class=\"sk-top-container\"><div class=\"sk-text-repr-fallback\"><pre>LGBMRanker(n_estimators=2000, objective=&#x27;lambdarank&#x27;)</pre><b>In a Jupyter environment, please rerun this cell to show the HTML representation or trust the notebook. <br />On GitHub, the HTML representation is unable to render, please try loading this page with nbviewer.org.</b></div><div class=\"sk-container\" hidden><div class=\"sk-item\"><div class=\"sk-estimator sk-toggleable\"><input class=\"sk-toggleable__control sk-hidden--visually\" id=\"sk-estimator-id-3\" type=\"checkbox\" checked><label for=\"sk-estimator-id-3\" class=\"sk-toggleable__label sk-toggleable__label-arrow\">LGBMRanker</label><div class=\"sk-toggleable__content\"><pre>LGBMRanker(n_estimators=2000, objective=&#x27;lambdarank&#x27;)</pre></div></div></div></div></div>"
      ],
      "text/plain": [
       "LGBMRanker(n_estimators=2000, objective='lambdarank')"
      ]
     },
     "execution_count": 34,
     "metadata": {},
     "output_type": "execute_result"
    }
   ],
   "source": [
    "gbm.fit(X_train, y_train, group=group_train)"
   ]
  },
  {
   "cell_type": "code",
   "execution_count": 35,
   "id": "572bdaa8",
   "metadata": {},
   "outputs": [
    {
     "name": "stdout",
     "output_type": "stream",
     "text": [
      "[-5.71849661 -3.26932375 -7.69962519 ... -5.24860019 -8.02321719\n",
      " -1.62271295]\n"
     ]
    }
   ],
   "source": [
    "predictions = gbm.predict(X_test)\n",
    "print(predictions)"
   ]
  },
  {
   "cell_type": "code",
   "execution_count": 36,
   "id": "a925d583",
   "metadata": {},
   "outputs": [],
   "source": [
    "grouped_predictions = {}\n",
    "grouped_true_labels = {}\n",
    "\n",
    "for qid in np.unique(qid_test):\n",
    "    grouped_predictions[qid] = predictions[qid_test == qid]\n",
    "    grouped_true_labels[qid] = y_test[qid_test == qid]"
   ]
  },
  {
   "cell_type": "code",
   "execution_count": 37,
   "id": "98b6da0e",
   "metadata": {},
   "outputs": [],
   "source": [
    "ndcg_scores = []\n",
    "\n",
    "for qid in grouped_predictions:\n",
    "    y_true = grouped_true_labels[qid]\n",
    "    y_score = grouped_predictions[qid]\n",
    "\n",
    "    if np.sum(y_true) == 0:  # Skip groups with zero relevance\n",
    "        continue\n",
    "\n",
    "    idcg = ndcg(y_true, y_true, k=10)\n",
    "    ndcg_score = ndcg(y_score, y_true, k=10) / idcg\n",
    "    ndcg_scores.append(ndcg_score)"
   ]
  },
  {
   "cell_type": "code",
   "execution_count": 38,
   "id": "dc8d280f",
   "metadata": {},
   "outputs": [
    {
     "data": {
      "text/plain": [
       "0.4065723566594736"
      ]
     },
     "execution_count": 38,
     "metadata": {},
     "output_type": "execute_result"
    }
   ],
   "source": [
    "np.mean(ndcg_scores)"
   ]
  },
  {
   "cell_type": "markdown",
   "id": "0b8d85d7",
   "metadata": {},
   "source": [
    "# catboost"
   ]
  },
  {
   "cell_type": "code",
   "execution_count": 16,
   "id": "c0d8e4a6",
   "metadata": {},
   "outputs": [],
   "source": [
    "from catboost import CatBoostRanker, Pool, MetricVisualizer"
   ]
  },
  {
   "cell_type": "code",
   "execution_count": 17,
   "id": "14dde8a3",
   "metadata": {},
   "outputs": [],
   "source": [
    "train_df, test_df = msrank_10k()"
   ]
  },
  {
   "cell_type": "code",
   "execution_count": 18,
   "id": "e1228e85",
   "metadata": {},
   "outputs": [],
   "source": [
    "X_train = train_df.drop([0, 1], axis=1).values\n",
    "y_train = train_df[0].values\n",
    "qid_train = train_df[1].values\n",
    "\n",
    "X_test = test_df.drop([0, 1], axis=1).values\n",
    "y_test = test_df[0].values\n",
    "qid_test = test_df[1].values"
   ]
  },
  {
   "cell_type": "code",
   "execution_count": 19,
   "id": "58506b47",
   "metadata": {},
   "outputs": [],
   "source": [
    "train_pool = Pool(\n",
    "    data=X_train,\n",
    "    label=y_train,\n",
    "    group_id=qid_train\n",
    ")\n",
    "\n",
    "test_pool = Pool(\n",
    "    data=X_test,\n",
    "    label=y_test,\n",
    "    group_id=qid_test\n",
    ")"
   ]
  },
  {
   "cell_type": "code",
   "execution_count": 41,
   "id": "df0348bf",
   "metadata": {},
   "outputs": [
    {
     "data": {
      "text/plain": [
       "<catboost.core.CatBoostRanker at 0x29b891fd0>"
      ]
     },
     "execution_count": 41,
     "metadata": {},
     "output_type": "execute_result"
    }
   ],
   "source": [
    "ct_ranker = CatBoostRanker(\n",
    "    loss_function='LambdaMart',\n",
    "    iterations=2000  # Set the number of estimators to 2000\n",
    ")\n",
    "ct_ranker.fit(train_pool, verbose=False)"
   ]
  },
  {
   "cell_type": "code",
   "execution_count": 42,
   "id": "dae9a55b",
   "metadata": {},
   "outputs": [
    {
     "name": "stdout",
     "output_type": "stream",
     "text": [
      "[-1.26227823 -0.89225794 -0.84846133 ... -0.43407749 -0.80450815\n",
      "  0.2595761 ]\n"
     ]
    }
   ],
   "source": [
    "predictions = ct_ranker.predict(test_pool)\n",
    "print(predictions)"
   ]
  },
  {
   "cell_type": "code",
   "execution_count": 43,
   "id": "df027450",
   "metadata": {},
   "outputs": [],
   "source": [
    "grouped_predictions = {}\n",
    "grouped_true_labels = {}\n",
    "\n",
    "for qid in np.unique(qid_test):\n",
    "    grouped_predictions[qid] = predictions[qid_test == qid]\n",
    "    grouped_true_labels[qid] = y_test[qid_test == qid]"
   ]
  },
  {
   "cell_type": "code",
   "execution_count": 44,
   "id": "a799add6",
   "metadata": {},
   "outputs": [],
   "source": [
    "qids = np.unique(qid_test)"
   ]
  },
  {
   "cell_type": "code",
   "execution_count": 45,
   "id": "5f6d1ae2",
   "metadata": {},
   "outputs": [],
   "source": [
    "ndcg_scores = []\n",
    "\n",
    "for qid in grouped_predictions:\n",
    "    y_true = grouped_true_labels[qid]\n",
    "    y_score = grouped_predictions[qid]\n",
    "\n",
    "    if np.sum(y_true) == 0:  # Skip groups with zero relevance\n",
    "        continue\n",
    "\n",
    "    idcg = ndcg(y_true, y_true, k=10)\n",
    "    ndcg_score = ndcg(y_score, y_true, k=10) / idcg\n",
    "    ndcg_scores.append(ndcg_score)"
   ]
  },
  {
   "cell_type": "code",
   "execution_count": 46,
   "id": "e5371164",
   "metadata": {},
   "outputs": [
    {
     "data": {
      "text/plain": [
       "0.4147356888355509"
      ]
     },
     "execution_count": 46,
     "metadata": {},
     "output_type": "execute_result"
    }
   ],
   "source": [
    "np.mean(ndcg_scores)"
   ]
  },
  {
   "cell_type": "code",
   "execution_count": null,
   "id": "5873fb8d",
   "metadata": {},
   "outputs": [],
   "source": []
  }
 ],
 "metadata": {
  "kernelspec": {
   "display_name": "Python 3 (ipykernel)",
   "language": "python",
   "name": "python3"
  },
  "language_info": {
   "codemirror_mode": {
    "name": "ipython",
    "version": 3
   },
   "file_extension": ".py",
   "mimetype": "text/x-python",
   "name": "python",
   "nbconvert_exporter": "python",
   "pygments_lexer": "ipython3",
   "version": "3.11.6"
  }
 },
 "nbformat": 4,
 "nbformat_minor": 5
}
