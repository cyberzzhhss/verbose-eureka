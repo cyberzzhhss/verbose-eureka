{
 "cells": [
  {
   "cell_type": "code",
   "execution_count": 1,
   "id": "f764d8ed",
   "metadata": {},
   "outputs": [],
   "source": [
    "import numpy as np\n",
    "import matplotlib.pyplot as plt\n",
    "from sklearn.linear_model import LogisticRegression"
   ]
  },
  {
   "cell_type": "code",
   "execution_count": 2,
   "id": "38a62fca",
   "metadata": {},
   "outputs": [],
   "source": [
    "# Set the coefficient and intercept\n",
    "coef = 0.6\n",
    "intercept = 0\n",
    "\n",
    "# Generate random integer data\n",
    "np.random.seed(0)\n",
    "X = np.random.randint(0, 2, size=500_000).reshape(-1, 1)  # Generate 1000 random integer samples between -10 and 10\n",
    "y_prob = 1 / (1 + np.exp(-(intercept + coef * X)))  # Calculate probability using logistic function\n",
    "y = np.random.binomial(1, y_prob).reshape(-1, 1)  # Convert probabilities to binary labels"
   ]
  },
  {
   "cell_type": "code",
   "execution_count": 3,
   "id": "2ea9a492",
   "metadata": {},
   "outputs": [
    {
     "name": "stdout",
     "output_type": "stream",
     "text": [
      "[0.60512214]\n",
      "[0.]\n"
     ]
    }
   ],
   "source": [
    "# Fit logistic regression model\n",
    "model = LogisticRegression(random_state=42, fit_intercept=False)\n",
    "model.fit(X, y.ravel())\n",
    "print(model.coef_[0])\n",
    "print(model.intercept_)"
   ]
  },
  {
   "cell_type": "code",
   "execution_count": 4,
   "id": "985b111a",
   "metadata": {},
   "outputs": [
    {
     "name": "stdout",
     "output_type": "stream",
     "text": [
      "[0.59789361]\n",
      "[0.0072281]\n"
     ]
    }
   ],
   "source": [
    "# Fit logistic regression model\n",
    "model = LogisticRegression(random_state=42, fit_intercept=True)\n",
    "model.fit(X, y.ravel())\n",
    "print(model.coef_[0])\n",
    "print(model.intercept_)"
   ]
  },
  {
   "cell_type": "code",
   "execution_count": 5,
   "id": "bb4202c0",
   "metadata": {},
   "outputs": [
    {
     "data": {
      "text/plain": [
       "array([[0],\n",
       "       [1],\n",
       "       [1],\n",
       "       [0],\n",
       "       [1]])"
      ]
     },
     "execution_count": 5,
     "metadata": {},
     "output_type": "execute_result"
    }
   ],
   "source": [
    "X[:5]"
   ]
  },
  {
   "cell_type": "code",
   "execution_count": 6,
   "id": "c681f4ab",
   "metadata": {},
   "outputs": [],
   "source": [
    "# Convert X to X_new with one-hot encoding\n",
    "X_new = np.array([[1, 0] if x == 0 else [0, 1] for x in X.flatten()])"
   ]
  },
  {
   "cell_type": "code",
   "execution_count": 7,
   "id": "f093b8fe",
   "metadata": {},
   "outputs": [
    {
     "data": {
      "text/plain": [
       "array([[1, 0],\n",
       "       [0, 1],\n",
       "       [0, 1],\n",
       "       [1, 0],\n",
       "       [0, 1]])"
      ]
     },
     "execution_count": 7,
     "metadata": {},
     "output_type": "execute_result"
    }
   ],
   "source": [
    "X_new[:5]"
   ]
  },
  {
   "cell_type": "code",
   "execution_count": 8,
   "id": "0571fa6d",
   "metadata": {},
   "outputs": [
    {
     "name": "stdout",
     "output_type": "stream",
     "text": [
      "[0.00721868 0.60512217]\n",
      "[0.]\n"
     ]
    }
   ],
   "source": [
    "model2 = LogisticRegression(fit_intercept=False)\n",
    "model2.fit(X_new, y.ravel())\n",
    "print(model2.coef_[0])\n",
    "print(model2.intercept_)"
   ]
  },
  {
   "cell_type": "code",
   "execution_count": 9,
   "id": "f33cdfbd",
   "metadata": {},
   "outputs": [
    {
     "name": "stdout",
     "output_type": "stream",
     "text": [
      "[-0.19689737  0.40100697]\n",
      "[0.20411982]\n"
     ]
    }
   ],
   "source": [
    "model2 = LogisticRegression(fit_intercept=True)\n",
    "model2.fit(X_new, y.ravel())\n",
    "print(model2.coef_[0])\n",
    "print(model2.intercept_)"
   ]
  },
  {
   "cell_type": "code",
   "execution_count": null,
   "id": "88ce34c2",
   "metadata": {},
   "outputs": [],
   "source": []
  },
  {
   "cell_type": "code",
   "execution_count": 10,
   "id": "d737602b",
   "metadata": {},
   "outputs": [],
   "source": [
    "import numpy as np\n",
    "from sklearn.linear_model import LogisticRegression\n",
    "\n",
    "# Set the coefficients and intercept\n",
    "coef = np.array([0.6, -0.4])  # Now using two features\n",
    "intercept = 0\n",
    "\n",
    "# Seed the random number generator for reproducibility\n",
    "np.random.seed(42)\n",
    "\n",
    "# Generate random integer data for two features\n",
    "X = np.random.randint(0, 2, size=(100_000, 2))  # Generate data with two features\n",
    "\n",
    "# Calculate probability using logistic function for two features\n",
    "logit_model = intercept + np.dot(X, coef)\n",
    "y_prob = 1 / (1 + np.exp(-logit_model))  # Apply logistic function\n",
    "\n",
    "# Convert probabilities to binary labels\n",
    "y = np.random.binomial(1, y_prob).reshape(-1, 1)"
   ]
  },
  {
   "cell_type": "code",
   "execution_count": 11,
   "id": "ce546361",
   "metadata": {},
   "outputs": [
    {
     "data": {
      "text/plain": [
       "(array([[ 0.58187533, -0.38746504]]), array([0.]))"
      ]
     },
     "execution_count": 11,
     "metadata": {},
     "output_type": "execute_result"
    }
   ],
   "source": [
    "# Fit logistic regression model\n",
    "model = LogisticRegression(random_state=42, fit_intercept=False)\n",
    "model.fit(X, y.ravel())\n",
    "model.coef_, model.intercept_"
   ]
  },
  {
   "cell_type": "code",
   "execution_count": 12,
   "id": "d6eef873",
   "metadata": {},
   "outputs": [
    {
     "data": {
      "text/plain": [
       "(array([[ 0.58514762, -0.38412112]]), array([-0.00500463]))"
      ]
     },
     "execution_count": 12,
     "metadata": {},
     "output_type": "execute_result"
    }
   ],
   "source": [
    "# Fit logistic regression model\n",
    "model = LogisticRegression(random_state=42, fit_intercept=True)\n",
    "model.fit(X, y.ravel())\n",
    "model.coef_, model.intercept_"
   ]
  },
  {
   "cell_type": "code",
   "execution_count": 13,
   "id": "1d03e1e2",
   "metadata": {},
   "outputs": [],
   "source": [
    "import random\n",
    "\n",
    "def convert_X_probabilistic(X):\n",
    "    X_new = []\n",
    "    for sublist in X:\n",
    "        ones_count = sum(sublist)\n",
    "        if ones_count == 2:\n",
    "            new_sublist = sublist.tolist() + [0]  # If exactly two 1s, append 0\n",
    "        else:\n",
    "            # Append 1 with a 50% probability, otherwise append 0\n",
    "            new_sublist = sublist.tolist() + [random.choice([0, 1])]\n",
    "        X_new.append(new_sublist)\n",
    "    return np.array(X_new)"
   ]
  },
  {
   "cell_type": "code",
   "execution_count": 14,
   "id": "2b382c66",
   "metadata": {},
   "outputs": [
    {
     "data": {
      "text/plain": [
       "array([[0, 1, 0],\n",
       "       [0, 0, 1],\n",
       "       [0, 1, 1],\n",
       "       [0, 0, 1],\n",
       "       [0, 1, 0]])"
      ]
     },
     "execution_count": 14,
     "metadata": {},
     "output_type": "execute_result"
    }
   ],
   "source": [
    "np.random.seed(42)\n",
    "X_new = convert_X_probabilistic(X)\n",
    "X_new[:5]"
   ]
  },
  {
   "cell_type": "code",
   "execution_count": 15,
   "id": "dcb7849a",
   "metadata": {},
   "outputs": [
    {
     "data": {
      "text/plain": [
       "(array([[ 0.58213459, -0.38718893, -0.00164992]]), array([0.]))"
      ]
     },
     "execution_count": 15,
     "metadata": {},
     "output_type": "execute_result"
    }
   ],
   "source": [
    "# Fit logistic regression model\n",
    "model = LogisticRegression(random_state=42, fit_intercept=False)\n",
    "model.fit(X_new, y.ravel())\n",
    "model.coef_, model.intercept_"
   ]
  },
  {
   "cell_type": "code",
   "execution_count": 16,
   "id": "f284a047",
   "metadata": {},
   "outputs": [
    {
     "data": {
      "text/plain": [
       "(array([[ 0.58578425, -0.38349128,  0.00253458]]), array([-0.00658511]))"
      ]
     },
     "execution_count": 16,
     "metadata": {},
     "output_type": "execute_result"
    }
   ],
   "source": [
    "# Fit logistic regression model\n",
    "model = LogisticRegression(random_state=42, fit_intercept=True)\n",
    "model.fit(X_new, y.ravel())\n",
    "model.coef_, model.intercept_"
   ]
  },
  {
   "cell_type": "code",
   "execution_count": null,
   "id": "9e2d9a10",
   "metadata": {},
   "outputs": [],
   "source": []
  }
 ],
 "metadata": {
  "kernelspec": {
   "display_name": "Python 3 (ipykernel)",
   "language": "python",
   "name": "python3"
  },
  "language_info": {
   "codemirror_mode": {
    "name": "ipython",
    "version": 3
   },
   "file_extension": ".py",
   "mimetype": "text/x-python",
   "name": "python",
   "nbconvert_exporter": "python",
   "pygments_lexer": "ipython3",
   "version": "3.11.6"
  }
 },
 "nbformat": 4,
 "nbformat_minor": 5
}
